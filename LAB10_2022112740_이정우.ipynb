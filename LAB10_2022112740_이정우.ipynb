{
 "cells": [
  {
   "cell_type": "code",
   "execution_count": 2,
   "id": "d9f95c31",
   "metadata": {},
   "outputs": [
    {
     "name": "stdout",
     "output_type": "stream",
     "text": [
      "200 - 100 = 100\n",
      "200 - 100 = 100\n"
     ]
    }
   ],
   "source": [
    "def sub(x, y):\n",
    "    return x - y\n",
    "\n",
    "print('200 - 100 =', sub(200, 100))\n",
    "\n",
    "print('200 - 100 =', (lambda x, y : x - y)(200, 100))"
   ]
  },
  {
   "cell_type": "code",
   "execution_count": 13,
   "id": "7b1b7c45",
   "metadata": {},
   "outputs": [
    {
     "name": "stdout",
     "output_type": "stream",
     "text": [
      "even_list =  [2, 4, 6, 8, 10]\n",
      "odd_list =  [1, 3, 5, 7, 9]\n"
     ]
    }
   ],
   "source": [
    "n_list = [1, 2, 3, 4, 5, 6, 7, 8, 9, 10]\n",
    "even_list = []\n",
    "odd_list = []\n",
    "\n",
    "for n in filter(lambda x : x % 2 == 0, n_list):\n",
    "     even_list.append(n)\n",
    "    \n",
    "for n in filter(lambda x : x % 2 != 0, n_list):\n",
    "     odd_list.append(n)\n",
    "    \n",
    "print('even_list = ', even_list)\n",
    "print('odd_list = ', odd_list)\n",
    "    \n",
    "    \n",
    "   \n"
   ]
  },
  {
   "cell_type": "code",
   "execution_count": 18,
   "id": "4c0cd43d",
   "metadata": {},
   "outputs": [
    {
     "name": "stdout",
     "output_type": "stream",
     "text": [
      "upper_a_list = ['A', 'B', 'C', 'D']\n",
      "upper_a_list = ['A', 'B', 'C', 'D']\n"
     ]
    }
   ],
   "source": [
    "def to_upper(x):\n",
    "    return x.upper()\n",
    "\n",
    "a_list = ['a', 'b', 'c', 'd']\n",
    "\n",
    "upper_a_list = []\n",
    "upper_a_list = list(map(to_upper, a_list))\n",
    "print('upper_a_list =', upper_a_list)\n",
    "\n",
    "upper_a_list = []\n",
    "upper_a_list = list(map(lambda x : x.upper(), a_list))\n",
    "print('upper_a_list =', upper_a_list)\n",
    "\n"
   ]
  },
  {
   "cell_type": "code",
   "execution_count": 20,
   "id": "6bda086e",
   "metadata": {},
   "outputs": [
    {
     "name": "stdout",
     "output_type": "stream",
     "text": [
      "입력 값의 두 배 : [20, 40, 60]\n",
      "입력 값의 세 배 : [30, 60, 90]\n",
      "입력 값의 두 배 : [20, 40, 60]\n",
      "입력 값의 세 배 : [30, 60, 90]\n"
     ]
    }
   ],
   "source": [
    "def twice(x):\n",
    "    return x * 2\n",
    "\n",
    "def triple(x):\n",
    "    return x * 3\n",
    "\n",
    "n_list = [10, 20, 30]\n",
    "\n",
    "n1_list = []\n",
    "n2_list = []\n",
    "n1_list = list(map(twice, n_list))\n",
    "n2_list = list(map(triple, n_list))\n",
    "print('입력 값의 두 배 :', n1_list)\n",
    "print('입력 값의 세 배 :', n2_list)\n",
    "\n",
    "n1_list = []\n",
    "n2_list = []\n",
    "n1_list = list(map(lambda x : x * 2, n_list))\n",
    "n2_list = list(map(lambda x : x * 3, n_list))\n",
    "print('입력 값의 두 배 :', n1_list)\n",
    "print('입력 값의 세 배 :', n2_list)\n"
   ]
  },
  {
   "cell_type": "code",
   "execution_count": 24,
   "id": "69865dfb",
   "metadata": {},
   "outputs": [
    {
     "name": "stdout",
     "output_type": "stream",
     "text": [
      "1에서 100까지의 합 : 5050\n",
      "10! = 3628800\n"
     ]
    }
   ],
   "source": [
    "from functools import reduce\n",
    "\n",
    "print('1에서 100까지의 합 :', reduce(lambda x, y : x + y, range(1, 101)))\n",
    "\n",
    "print('10! =', reduce(lambda x, y : x * y, range(1, 11)))"
   ]
  },
  {
   "cell_type": "code",
   "execution_count": 2,
   "id": "0cc541ce",
   "metadata": {},
   "outputs": [
    {
     "name": "stdout",
     "output_type": "stream",
     "text": [
      "cubic = [1, 8, 27, 64, 125, 216, 343, 512, 729, 1000]\n",
      "first_a = ['w', 't', 't', 'p', 'w']\n"
     ]
    }
   ],
   "source": [
    "cubic = [x**3 for x in range(1, 11)]\n",
    "print('cubic =', cubic)\n",
    "\n",
    "a = ['welcome', 'to', 'the', 'python', 'world']\n",
    "first_a = [x[0] for x in a]\n",
    "print('first_a =', first_a)"
   ]
  },
  {
   "cell_type": "code",
   "execution_count": 6,
   "id": "7ca87488",
   "metadata": {},
   "outputs": [
    {
     "name": "stdout",
     "output_type": "stream",
     "text": [
      "cubic = [1, 8, 27, 64, 125, 216, 343]\n",
      "['1', '2', '3', '4']\n"
     ]
    }
   ],
   "source": [
    "cubic = [x**3 for x in range(1, 11) if x**3 <= 500]\n",
    "print('cubic =', cubic)\n",
    "\n",
    "st = 'Hello 1234 Python'\n",
    "print([x for x in st if x.isdigit() == True])"
   ]
  },
  {
   "cell_type": "code",
   "execution_count": 16,
   "id": "03e3d975",
   "metadata": {},
   "outputs": [
    {
     "name": "stdout",
     "output_type": "stream",
     "text": [
      "0 2 4 6 8 \n",
      "0 2 4 6 8 10 12 14 16 18 20 "
     ]
    }
   ],
   "source": [
    "class EvenCounter:\n",
    "    \n",
    "    def __init__(self, n = 0):\n",
    "        self.n = n\n",
    "        \n",
    "    def __iter__(self):\n",
    "        return self\n",
    "    \n",
    "    def __next__(self):\n",
    "        t = self.n\n",
    "        self.n = self.n + 2\n",
    "        return t\n",
    "    \n",
    "my_even = EvenCounter()\n",
    "\n",
    "for i in range(5):\n",
    "    print(my_even.__next__(), end = ' ')\n",
    "\n",
    "print()\n",
    "my_even = EvenCounter()\n",
    "\n",
    "for x in my_even:\n",
    "    if x > 20:\n",
    "        break\n",
    "    print(x, end = ' ')\n",
    "    \n",
    "\n",
    "\n",
    "    "
   ]
  },
  {
   "cell_type": "code",
   "execution_count": 21,
   "id": "1b6b9f56",
   "metadata": {},
   "outputs": [
    {
     "name": "stdout",
     "output_type": "stream",
     "text": [
      "['Welcome', 'to', 'Busan', 'Metropolitan', 'City.']\n",
      "['Hello', ' My name is DongMin', ' Good to see you again']\n",
      "fruits = ['Apple', 'Banana', 'Melon', 'Orange']\n"
     ]
    }
   ],
   "source": [
    "txt = 'Welcome to Busan Metropolitan City.'\n",
    "print(txt.split())\n",
    "\n",
    "greet = 'Hello, My name is DongMin, Good to see you again'\n",
    "print(greet.split(','))\n",
    "\n",
    "fruits = 'Apple|Banana|Melon|Orange'\n",
    "print('fruits =', fruits.split('|'))"
   ]
  }
 ],
 "metadata": {
  "kernelspec": {
   "display_name": "Python 3 (ipykernel)",
   "language": "python",
   "name": "python3"
  },
  "language_info": {
   "codemirror_mode": {
    "name": "ipython",
    "version": 3
   },
   "file_extension": ".py",
   "mimetype": "text/x-python",
   "name": "python",
   "nbconvert_exporter": "python",
   "pygments_lexer": "ipython3",
   "version": "3.9.7"
  }
 },
 "nbformat": 4,
 "nbformat_minor": 5
}
